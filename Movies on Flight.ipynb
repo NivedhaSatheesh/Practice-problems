{
    "nbformat_minor": 1, 
    "cells": [
        {
            "source": "You are on a flight and wanna watch two movies during this flight. \nYou are given int[] movie_duration which includes all the movie durations. \nYou are also given the duration of the flight which is d in minutes. \nNow, you need to pick two movies and the total duration of the two movies is less than or equal to (d - 30min). \nFind the pair of movies with the longest total duration. If multiple found, return the pair with the longest movie.", 
            "cell_type": "markdown", 
            "metadata": {}
        }, 
        {
            "execution_count": 43, 
            "cell_type": "code", 
            "metadata": {}, 
            "outputs": [], 
            "source": "def Moviesonflight(duration, d):\n    \n    #Sort the array and create a copy of the sorted array\n    a1_sorted = sorted(duration)\n    a2_sorted = a1_sorted\n    \n    #Assign i=0 and j=length of array-1\n    i = 0\n    j = len(a2_sorted) - 1\n    \n    #Initialize time as duration of flight-30 mins\n    time=d-30\n    \n    #Let's assume the first pair has the shortest distance and thus considered as the closest pair\n    diff1 =time -  (a1_sorted[0] + a2_sorted[0])\n    closest_pair = (a1_sorted[0], a2_sorted[0])\n    \n    #Traverse through the array and find the sum and difference\n    while i < len(a1_sorted) and j >= 0:\n        v1 = a1_sorted[i]\n        v2 = a2_sorted[j]\n        sum2=v1+v2\n        diff2 = time - (v1 + v2)\n    \n        if diff2 <= diff1 and diff2>=0: #If the difference is than the difference of first pair then the difference is updated\n            diff1 = diff2\n            closest_pair = (v1, v2) \n\n        if sum2 == time:                #If sum equal to time return the pair\n            return closest_pair\n        elif sum2 <= time:              #\n            i += 1\n        else:\n            j -= 1\n    return closest_pair"
        }, 
        {
            "execution_count": 44, 
            "cell_type": "code", 
            "metadata": {}, 
            "outputs": [], 
            "source": "duration=[90, 85, 75, 60, 120, 150, 125]"
        }, 
        {
            "execution_count": 45, 
            "cell_type": "code", 
            "metadata": {}, 
            "outputs": [], 
            "source": "d=250"
        }, 
        {
            "execution_count": 46, 
            "cell_type": "code", 
            "metadata": {}, 
            "outputs": [
                {
                    "output_type": "stream", 
                    "name": "stdout", 
                    "text": "[60, 75, 85, 90, 120, 125, 150]\n"
                }, 
                {
                    "execution_count": 46, 
                    "metadata": {}, 
                    "data": {
                        "text/plain": "(125, 90)"
                    }, 
                    "output_type": "execute_result"
                }
            ], 
            "source": "Moviesonflight(duration,d)"
        }, 
        {
            "execution_count": 49, 
            "cell_type": "code", 
            "metadata": {}, 
            "outputs": [], 
            "source": "d1=[70,60,75,85,90,110,110]"
        }, 
        {
            "execution_count": 50, 
            "cell_type": "code", 
            "metadata": {}, 
            "outputs": [
                {
                    "output_type": "stream", 
                    "name": "stdout", 
                    "text": "[60, 70, 75, 85, 90, 110, 110]\n"
                }, 
                {
                    "execution_count": 50, 
                    "metadata": {}, 
                    "data": {
                        "text/plain": "(110, 110)"
                    }, 
                    "output_type": "execute_result"
                }
            ], 
            "source": "Moviesonflight(d1,d)"
        }, 
        {
            "execution_count": null, 
            "cell_type": "code", 
            "metadata": {}, 
            "outputs": [], 
            "source": ""
        }
    ], 
    "metadata": {
        "kernelspec": {
            "display_name": "Python 3.6", 
            "name": "python3", 
            "language": "python"
        }, 
        "language_info": {
            "mimetype": "text/x-python", 
            "nbconvert_exporter": "python", 
            "version": "3.6.8", 
            "name": "python", 
            "file_extension": ".py", 
            "pygments_lexer": "ipython3", 
            "codemirror_mode": {
                "version": 3, 
                "name": "ipython"
            }
        }
    }, 
    "nbformat": 4
}